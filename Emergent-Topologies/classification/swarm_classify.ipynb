{
 "cells": [
  {
   "cell_type": "code",
   "execution_count": 7,
   "id": "7e95b19c",
   "metadata": {},
   "outputs": [
    {
     "name": "stdout",
     "output_type": "stream",
     "text": [
      "Will generate 256px square images.\n",
      "/Users/carlos/Documents/GitHub/bacteria/Emergent-Topologies/classification/models/cnn/0000_swarming\n"
     ]
    }
   ],
   "source": [
    "# === CONFIGURATION ===\n",
    "# list of labels\n",
    "# catergorical data to be converted to numerical data via one-hot encoding\n",
    "# SWARM_LABELS = [\"swirl\", \"snake\"]\n",
    "# Generation resolution - Must be square\n",
    "# Training data is also scaled to this.\n",
    "GENERATE_SQUARE = 256\n",
    "IMAGE_CHANNELS = 1\n",
    "\n",
    "# epochs, batch size and location of dataset\n",
    "DATA_PATH = \"data/swarming\"  # '/content/drive/My Drive/research/deep_learning/GDL_code/data/bacteria/'\n",
    "EPOCHS = 20\n",
    "BATCH_SIZE = 16\n",
    "\n",
    "print(f\"Will generate {GENERATE_SQUARE}px square images.\")\n",
    "\n",
    "# run params\n",
    "scriptdir = os.path.dirname(\"__file__\")\n",
    "SECTION = 'cnn'\n",
    "RUN_ID = '0000'\n",
    "DATA_NAME = 'swarming'\n",
    "models_path = 'models/{}/'.format(SECTION)\n",
    "models_path += '_'.join([RUN_ID, DATA_NAME])  # where to save the models\n",
    "MODEL_FOLDER = os.path.abspath(os.path.join(scriptdir, models_path))\n",
    "print(MODEL_FOLDER)"
   ]
  },
  {
   "cell_type": "code",
   "execution_count": 6,
   "id": "438ac179",
   "metadata": {},
   "outputs": [],
   "source": [
    "if not os.path.exists(MODEL_FOLDER):\n",
    "    os.makedirs(MODEL_FOLDER)\n",
    "    os.mkdir(os.path.join(MODEL_FOLDER, 'weights'))"
   ]
  },
  {
   "cell_type": "code",
   "execution_count": 3,
   "id": "8fd278d1",
   "metadata": {},
   "outputs": [],
   "source": [
    "import numpy as np\n",
    "import matplotlib.pyplot as plt\n",
    "\n",
    "import tensorflow as tf\n",
    "from tensorflow.keras.applications import vgg16\n",
    "from tensorflow.keras.preprocessing.image import ImageDataGenerator\n",
    "\n",
    "import os\n",
    "import random"
   ]
  },
  {
   "cell_type": "code",
   "execution_count": 4,
   "id": "5a0612ea",
   "metadata": {},
   "outputs": [],
   "source": [
    "if not os.path.exists(MODEL_FOLDER):\n",
    "    os.mkdir(MODEL_FOLDER)\n",
    "    os.mkdir(os.path.join(MODEL_FOLDER, 'weights'))"
   ]
  },
  {
   "cell_type": "code",
   "execution_count": 5,
   "id": "e16560fb",
   "metadata": {},
   "outputs": [
    {
     "data": {
      "text/plain": [
       "<module 'posixpath' from '/Users/carlos/opt/anaconda3/envs/phylum-opencv-2021/lib/python3.7/posixpath.py'>"
      ]
     },
     "execution_count": 5,
     "metadata": {},
     "output_type": "execute_result"
    }
   ],
   "source": [
    "os.path"
   ]
  },
  {
   "cell_type": "code",
   "execution_count": 9,
   "id": "894fabd6",
   "metadata": {},
   "outputs": [
    {
     "name": "stdout",
     "output_type": "stream",
     "text": [
      "/Users/carlos/Documents/GitHub/bacteria/Emergent-Topologies/classification\n"
     ]
    }
   ],
   "source": [
    "os.path.abspath('')\n",
    "print(scriptdir)"
   ]
  },
  {
   "cell_type": "markdown",
   "id": "e748c0c6",
   "metadata": {},
   "source": []
  }
 ],
 "metadata": {
  "kernelspec": {
   "display_name": "phylum-opencv-2021 (Python 3.7.11)",
   "language": "python",
   "name": "phylum-opencv-2021"
  },
  "language_info": {
   "codemirror_mode": {
    "name": "ipython",
    "version": 3
   },
   "file_extension": ".py",
   "mimetype": "text/x-python",
   "name": "python",
   "nbconvert_exporter": "python",
   "pygments_lexer": "ipython3",
   "version": "3.7.11"
  }
 },
 "nbformat": 4,
 "nbformat_minor": 5
}
